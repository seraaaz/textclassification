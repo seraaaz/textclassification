{
 "cells": [
  {
   "cell_type": "markdown",
   "id": "c19d0fc4-bd4a-4524-ac25-1a3f2364bb1f",
   "metadata": {},
   "source": [
    "# Import libraries"
   ]
  },
  {
   "cell_type": "code",
   "execution_count": 33,
   "id": "a4a8f602-9fee-4e92-abcb-3ed826dd2e7e",
   "metadata": {},
   "outputs": [],
   "source": [
    "from collections import Counter\n",
    "from nltk.corpus import stopwords\n",
    "from nltk.tokenize import word_tokenize\n",
    "from nltk.tokenize.treebank import TreebankWordDetokenizer\n",
    "from nlp_id.lemmatizer import Lemmatizer\n",
    "from sklearn.metrics.pairwise import cosine_similarity\n",
    "from sklearn.feature_extraction.text import CountVectorizer\n",
    "import matplotlib.pyplot as plt\n",
    "\n",
    "import pandas as pd\n",
    "import numpy as np\n",
    "import re\n",
    "import itertools"
   ]
  },
  {
   "cell_type": "markdown",
   "id": "fccea28b-7491-45a2-8b7b-9832ebebd759",
   "metadata": {},
   "source": [
    "# Load and preproccess data"
   ]
  },
  {
   "cell_type": "code",
   "execution_count": 2,
   "id": "11cee78c-bff8-4727-8d00-7cdf6c938338",
   "metadata": {},
   "outputs": [],
   "source": [
    "df = pd.read_csv('./data_full.csv')\n",
    "\n",
    "lemmatizer = Lemmatizer()\n",
    "stop_words = stopwords.words(\"indonesian\")\n",
    "word_detokenizer = TreebankWordDetokenizer()\n",
    "\n",
    "df['sentence_text_cleaned'] = df['sentence_text'].str.lower()\n",
    "df['sentence_text_cleaned'] = df['sentence_text_cleaned'].apply(lambda s: re.sub(r'[^\\w\\s]', '', re.sub(r'\\d+', '', s)))\n",
    "df['sentence_text_cleaned'] = df['sentence_text_cleaned'].apply(lambda s: lemmatizer.lemmatize(s))\n",
    "df['sentence_text_cleaned'] = df['sentence_text_cleaned'].apply(lambda s: [v for v in s.split() if v not in stop_words])\n",
    "df['sentence_text_cleaned'] = df['sentence_text_cleaned'].apply(lambda s: word_detokenizer.detokenize(s))"
   ]
  },
  {
   "cell_type": "markdown",
   "id": "068fa89c-3216-49e9-bdb1-7befd0982579",
   "metadata": {},
   "source": [
    "# Group sentences based on their labels"
   ]
  },
  {
   "cell_type": "code",
   "execution_count": 3,
   "id": "2edf5ca2-eff9-4bda-be54-34b3bc2d6494",
   "metadata": {},
   "outputs": [],
   "source": [
    "labels = ['F1', 'F2', 'F3', 'F4', 'F5', 'F6']\n",
    "\n",
    "for label in labels:\n",
    "    f = open(f\"sentence_labels/{label}.txt\", 'w')\n",
    "    for _, row in df.iterrows():\n",
    "        if row['label_annotator'] == label:\n",
    "            f.write(row['sentence_text_cleaned'] + \"\\n\")\n",
    "    f.close()"
   ]
  },
  {
   "cell_type": "markdown",
   "id": "735d8ca8-6955-4672-bd9a-3b1d6921d8ae",
   "metadata": {},
   "source": [
    "# Create document frequency for each word in each label"
   ]
  },
  {
   "cell_type": "code",
   "execution_count": 4,
   "id": "9d751a6e-fdd4-441a-8a61-709f27293289",
   "metadata": {},
   "outputs": [],
   "source": [
    "for label in labels:\n",
    "    with open(f\"sentence_labels/{label}.txt\") as f:\n",
    "        sentences = f.readlines()\n",
    "\n",
    "    sentences = [sentence.strip() for sentence in sentences]\n",
    "    unique_words = set([word for sentence in sentences for word in sentence.split() if len(word) > 1])\n",
    "    doc_freq = {word: 0 for word in unique_words}\n",
    "\n",
    "    for sentence in sentences:\n",
    "        words_in_sentence = set(sentence.split())\n",
    "        for word in unique_words:\n",
    "            if word in words_in_sentence:\n",
    "                doc_freq[word] += 1\n",
    "        \n",
    "    doc_freq = {\n",
    "        'word': doc_freq.keys(),\n",
    "        'doc_freq': doc_freq.values(),\n",
    "    }\n",
    "    \n",
    "    doc_freq = pd.DataFrame(doc_freq)\n",
    "    doc_freq = doc_freq.sort_values('doc_freq', ascending=False)\n",
    "    doc_freq.to_csv(f\"sentence_labels/DF_{label}.csv\", index=False)"
   ]
  },
  {
   "cell_type": "markdown",
   "id": "bc25788a-5ddd-401e-abda-aa6619f855a3",
   "metadata": {},
   "source": [
    "# Make new document based on the segmentation"
   ]
  },
  {
   "cell_type": "code",
   "execution_count": 5,
   "id": "02ed4c7a-651d-4e98-a9ee-a58268fe5666",
   "metadata": {},
   "outputs": [],
   "source": [
    "segment_label = {\n",
    "    'doc_id': [],\n",
    "    'segment_id': [],\n",
    "    'segment_text': [],\n",
    "}\n",
    "\n",
    "for doc_id in range(500):\n",
    "    if doc_id == 87: continue\n",
    "    seg_ids = df.loc[df['doc_id'] == doc_id, 'optimal_segment_id'].unique()\n",
    "    for seg_id in seg_ids:\n",
    "        seg_text = df.loc[df['optimal_segment_id'] == seg_id, 'sentence_text'].to_list()\n",
    "        seg_text = ' '.join(seg_text)\n",
    "        segment_label['doc_id'].append(doc_id)\n",
    "        segment_label['segment_id'].append(seg_id)\n",
    "        segment_label['segment_text'].append(seg_text)\n",
    "\n",
    "segment_label = pd.DataFrame(segment_label)\n",
    "segment_label.to_csv('segment_optimal_label.csv', index=False)"
   ]
  },
  {
   "cell_type": "code",
   "execution_count": 6,
   "id": "92191758-0949-4ee4-b9a7-5e7f9eaa4cb6",
   "metadata": {},
   "outputs": [
    {
     "data": {
      "text/html": [
       "<div>\n",
       "<style scoped>\n",
       "    .dataframe tbody tr th:only-of-type {\n",
       "        vertical-align: middle;\n",
       "    }\n",
       "\n",
       "    .dataframe tbody tr th {\n",
       "        vertical-align: top;\n",
       "    }\n",
       "\n",
       "    .dataframe thead th {\n",
       "        text-align: right;\n",
       "    }\n",
       "</style>\n",
       "<table border=\"1\" class=\"dataframe\">\n",
       "  <thead>\n",
       "    <tr style=\"text-align: right;\">\n",
       "      <th></th>\n",
       "      <th>doc_id</th>\n",
       "      <th>segment_id</th>\n",
       "      <th>segment_text</th>\n",
       "    </tr>\n",
       "  </thead>\n",
       "  <tbody>\n",
       "    <tr>\n",
       "      <th>0</th>\n",
       "      <td>0</td>\n",
       "      <td>s0_0</td>\n",
       "      <td>Halo yayan, Terima kasih atas pertanyaannya</td>\n",
       "    </tr>\n",
       "    <tr>\n",
       "      <th>1</th>\n",
       "      <td>0</td>\n",
       "      <td>s0_1</td>\n",
       "      <td>Berdasarkan riwayat keluhan istri Anda yang su...</td>\n",
       "    </tr>\n",
       "    <tr>\n",
       "      <th>2</th>\n",
       "      <td>0</td>\n",
       "      <td>s0_2</td>\n",
       "      <td>Minum air, sup, atau minuman elektrolit untuk ...</td>\n",
       "    </tr>\n",
       "    <tr>\n",
       "      <th>3</th>\n",
       "      <td>0</td>\n",
       "      <td>s0_3</td>\n",
       "      <td>Apabila gejala tidak membaik dalam waktu 3 - 5...</td>\n",
       "    </tr>\n",
       "    <tr>\n",
       "      <th>4</th>\n",
       "      <td>1</td>\n",
       "      <td>s1_0</td>\n",
       "      <td>Halo Terima kasih atas pertanyaan yang disampa...</td>\n",
       "    </tr>\n",
       "    <tr>\n",
       "      <th>...</th>\n",
       "      <td>...</td>\n",
       "      <td>...</td>\n",
       "      <td>...</td>\n",
       "    </tr>\n",
       "    <tr>\n",
       "      <th>2701</th>\n",
       "      <td>498</td>\n",
       "      <td>s498_5</td>\n",
       "      <td>Semoga membantu, dr Mira</td>\n",
       "    </tr>\n",
       "    <tr>\n",
       "      <th>2702</th>\n",
       "      <td>499</td>\n",
       "      <td>s499_0</td>\n",
       "      <td>Hai Nyeri perut setelah buang air kecil dapat ...</td>\n",
       "    </tr>\n",
       "    <tr>\n",
       "      <th>2703</th>\n",
       "      <td>499</td>\n",
       "      <td>s499_1</td>\n",
       "      <td>Untuk memastikan penyebabnya tentunya diperluk...</td>\n",
       "    </tr>\n",
       "    <tr>\n",
       "      <th>2704</th>\n",
       "      <td>499</td>\n",
       "      <td>s499_2</td>\n",
       "      <td>Berikut ini anjuran bagi Anda: Istirahat yang ...</td>\n",
       "    </tr>\n",
       "    <tr>\n",
       "      <th>2705</th>\n",
       "      <td>499</td>\n",
       "      <td>s499_3</td>\n",
       "      <td>Salam, dr Muliani Sukiman</td>\n",
       "    </tr>\n",
       "  </tbody>\n",
       "</table>\n",
       "<p>2706 rows × 3 columns</p>\n",
       "</div>"
      ],
      "text/plain": [
       "      doc_id segment_id                                       segment_text\n",
       "0          0       s0_0        Halo yayan, Terima kasih atas pertanyaannya\n",
       "1          0       s0_1  Berdasarkan riwayat keluhan istri Anda yang su...\n",
       "2          0       s0_2  Minum air, sup, atau minuman elektrolit untuk ...\n",
       "3          0       s0_3  Apabila gejala tidak membaik dalam waktu 3 - 5...\n",
       "4          1       s1_0  Halo Terima kasih atas pertanyaan yang disampa...\n",
       "...      ...        ...                                                ...\n",
       "2701     498     s498_5                           Semoga membantu, dr Mira\n",
       "2702     499     s499_0  Hai Nyeri perut setelah buang air kecil dapat ...\n",
       "2703     499     s499_1  Untuk memastikan penyebabnya tentunya diperluk...\n",
       "2704     499     s499_2  Berikut ini anjuran bagi Anda: Istirahat yang ...\n",
       "2705     499     s499_3                          Salam, dr Muliani Sukiman\n",
       "\n",
       "[2706 rows x 3 columns]"
      ]
     },
     "execution_count": 6,
     "metadata": {},
     "output_type": "execute_result"
    }
   ],
   "source": [
    "segment_label"
   ]
  },
  {
   "cell_type": "markdown",
   "id": "bf593098-8146-4522-a456-e00181baea4d",
   "metadata": {},
   "source": [
    "# Preproccess segment text"
   ]
  },
  {
   "cell_type": "code",
   "execution_count": 7,
   "id": "db079ab5-29f4-4129-867f-ff8e96423b19",
   "metadata": {},
   "outputs": [],
   "source": [
    "segment_label['segment_text_cleaned'] = segment_label['segment_text'].str.lower()\n",
    "segment_label['segment_text_cleaned'] = segment_label['segment_text_cleaned'].apply(lambda s: re.sub(r'[^\\w\\s]', '', re.sub(r'\\d+', '', s)))\n",
    "segment_label['segment_text_cleaned'] = segment_label['segment_text_cleaned'].apply(lambda s: lemmatizer.lemmatize(s))\n",
    "segment_label['segment_text_cleaned'] = segment_label['segment_text_cleaned'].apply(lambda s: [v for v in s.split() if v not in stop_words])\n",
    "segment_label['segment_text_cleaned'] = segment_label['segment_text_cleaned'].apply(lambda s: word_detokenizer.detokenize(s))"
   ]
  },
  {
   "cell_type": "markdown",
   "id": "a0065311-edda-43bd-8e56-ae43566bd791",
   "metadata": {},
   "source": [
    "# Make new dictionary to store each label's word count"
   ]
  },
  {
   "cell_type": "code",
   "execution_count": 8,
   "id": "3ff69c9a-5a53-4023-b03d-163b38eb903b",
   "metadata": {},
   "outputs": [],
   "source": [
    "df_dict = {}\n",
    "\n",
    "for label in labels:\n",
    "    df_dict[label] = pd.read_csv(f\"sentence_labels/DF_{label}.csv\")"
   ]
  },
  {
   "cell_type": "markdown",
   "id": "dddceef4-d1b1-4687-a248-c039bb3084ec",
   "metadata": {},
   "source": [
    "# Create new columns for storing word count & start counting"
   ]
  },
  {
   "cell_type": "code",
   "execution_count": 9,
   "id": "03bcb59a-8fc3-4b6e-988c-a8151b53bd0f",
   "metadata": {},
   "outputs": [],
   "source": [
    "segment_label['F1'] = 0\n",
    "segment_label['F2'] = 0\n",
    "segment_label['F3'] = 0\n",
    "segment_label['F4'] = 0\n",
    "segment_label['F5'] = 0\n",
    "segment_label['F6'] = 0\n",
    "segment_label['predicted_label'] = ''\n",
    "\n",
    "for i, row in segment_label.iterrows():\n",
    "    sentence = row['segment_text_cleaned'].split()\n",
    "    for word in sentence:\n",
    "        for label in labels:\n",
    "            if df_dict[label]['word'].isin([word]).any():\n",
    "                segment_label.loc[i, label] += 1"
   ]
  },
  {
   "cell_type": "markdown",
   "id": "965f63e7-9bd6-4990-ac30-7bc0a4842d03",
   "metadata": {},
   "source": [
    "# Predict the label"
   ]
  },
  {
   "cell_type": "markdown",
   "id": "f49c51e0-741e-47dc-a70b-85fd63f839d9",
   "metadata": {},
   "source": [
    "based on the largest value from all the 6 labels, in case there are more than one largest value (they are the same), then set the label to Fx"
   ]
  },
  {
   "cell_type": "code",
   "execution_count": 10,
   "id": "e280714b-53fe-4e17-9589-fbd773d50187",
   "metadata": {
    "tags": []
   },
   "outputs": [],
   "source": [
    "# get the columns for F1-F6\n",
    "f_cols = segment_label.loc[:, 'F1':'F6'].columns\n",
    "\n",
    "# get the index of the column with the highest count for each row\n",
    "max_cols = segment_label[f_cols].idxmax(axis=1)\n",
    "\n",
    "# get the maximum count for each row\n",
    "max_counts = segment_label[f_cols].max(axis=1)\n",
    "\n",
    "# set the 'predicted_label' column to the column with the highest count or 'Fx' if there are multiple columns with the same maximum count\n",
    "segment_label['predicted_label'] = np.where(max_counts.eq(max_counts.groupby(level=0).transform('max')), max_cols, 'Fx')"
   ]
  },
  {
   "cell_type": "code",
   "execution_count": 11,
   "id": "6fba3f8a-33b8-4826-a52e-0fdb582eb9f4",
   "metadata": {},
   "outputs": [
    {
     "data": {
      "text/html": [
       "<div>\n",
       "<style scoped>\n",
       "    .dataframe tbody tr th:only-of-type {\n",
       "        vertical-align: middle;\n",
       "    }\n",
       "\n",
       "    .dataframe tbody tr th {\n",
       "        vertical-align: top;\n",
       "    }\n",
       "\n",
       "    .dataframe thead th {\n",
       "        text-align: right;\n",
       "    }\n",
       "</style>\n",
       "<table border=\"1\" class=\"dataframe\">\n",
       "  <thead>\n",
       "    <tr style=\"text-align: right;\">\n",
       "      <th></th>\n",
       "      <th>doc_id</th>\n",
       "      <th>segment_id</th>\n",
       "      <th>segment_text</th>\n",
       "      <th>segment_text_cleaned</th>\n",
       "      <th>F1</th>\n",
       "      <th>F2</th>\n",
       "      <th>F3</th>\n",
       "      <th>F4</th>\n",
       "      <th>F5</th>\n",
       "      <th>F6</th>\n",
       "      <th>predicted_label</th>\n",
       "    </tr>\n",
       "  </thead>\n",
       "  <tbody>\n",
       "    <tr>\n",
       "      <th>0</th>\n",
       "      <td>0</td>\n",
       "      <td>s0_0</td>\n",
       "      <td>Halo yayan, Terima kasih atas pertanyaannya</td>\n",
       "      <td>halo yayan terima kasih</td>\n",
       "      <td>4</td>\n",
       "      <td>0</td>\n",
       "      <td>1</td>\n",
       "      <td>0</td>\n",
       "      <td>2</td>\n",
       "      <td>0</td>\n",
       "      <td>F1</td>\n",
       "    </tr>\n",
       "    <tr>\n",
       "      <th>1</th>\n",
       "      <td>0</td>\n",
       "      <td>s0_1</td>\n",
       "      <td>Berdasarkan riwayat keluhan istri Anda yang su...</td>\n",
       "      <td>dasar riwayat keluh istri muntah muntah diare ...</td>\n",
       "      <td>16</td>\n",
       "      <td>37</td>\n",
       "      <td>70</td>\n",
       "      <td>64</td>\n",
       "      <td>69</td>\n",
       "      <td>45</td>\n",
       "      <td>F3</td>\n",
       "    </tr>\n",
       "    <tr>\n",
       "      <th>2</th>\n",
       "      <td>0</td>\n",
       "      <td>s0_2</td>\n",
       "      <td>Minum air, sup, atau minuman elektrolit untuk ...</td>\n",
       "      <td>minum air sup minum elektrolit bantu cair tubu...</td>\n",
       "      <td>2</td>\n",
       "      <td>9</td>\n",
       "      <td>25</td>\n",
       "      <td>21</td>\n",
       "      <td>30</td>\n",
       "      <td>13</td>\n",
       "      <td>F5</td>\n",
       "    </tr>\n",
       "    <tr>\n",
       "      <th>3</th>\n",
       "      <td>0</td>\n",
       "      <td>s0_3</td>\n",
       "      <td>Apabila gejala tidak membaik dalam waktu 3 - 5...</td>\n",
       "      <td>gejala muntah diare darah demam lemas langsung...</td>\n",
       "      <td>10</td>\n",
       "      <td>9</td>\n",
       "      <td>14</td>\n",
       "      <td>14</td>\n",
       "      <td>17</td>\n",
       "      <td>9</td>\n",
       "      <td>F5</td>\n",
       "    </tr>\n",
       "    <tr>\n",
       "      <th>4</th>\n",
       "      <td>1</td>\n",
       "      <td>s1_0</td>\n",
       "      <td>Halo Terima kasih atas pertanyaan yang disampa...</td>\n",
       "      <td>halo terima kasih alodokter paham khawatir</td>\n",
       "      <td>6</td>\n",
       "      <td>0</td>\n",
       "      <td>3</td>\n",
       "      <td>2</td>\n",
       "      <td>5</td>\n",
       "      <td>0</td>\n",
       "      <td>F1</td>\n",
       "    </tr>\n",
       "    <tr>\n",
       "      <th>...</th>\n",
       "      <td>...</td>\n",
       "      <td>...</td>\n",
       "      <td>...</td>\n",
       "      <td>...</td>\n",
       "      <td>...</td>\n",
       "      <td>...</td>\n",
       "      <td>...</td>\n",
       "      <td>...</td>\n",
       "      <td>...</td>\n",
       "      <td>...</td>\n",
       "      <td>...</td>\n",
       "    </tr>\n",
       "    <tr>\n",
       "      <th>2701</th>\n",
       "      <td>498</td>\n",
       "      <td>s498_5</td>\n",
       "      <td>Semoga membantu, dr Mira</td>\n",
       "      <td>moga bantu dr mira</td>\n",
       "      <td>4</td>\n",
       "      <td>0</td>\n",
       "      <td>1</td>\n",
       "      <td>2</td>\n",
       "      <td>2</td>\n",
       "      <td>0</td>\n",
       "      <td>F1</td>\n",
       "    </tr>\n",
       "    <tr>\n",
       "      <th>2702</th>\n",
       "      <td>499</td>\n",
       "      <td>s499_0</td>\n",
       "      <td>Hai Nyeri perut setelah buang air kecil dapat ...</td>\n",
       "      <td>hai nyeri perut buang air infeksi salur kemih ...</td>\n",
       "      <td>6</td>\n",
       "      <td>14</td>\n",
       "      <td>19</td>\n",
       "      <td>18</td>\n",
       "      <td>18</td>\n",
       "      <td>13</td>\n",
       "      <td>F3</td>\n",
       "    </tr>\n",
       "    <tr>\n",
       "      <th>2703</th>\n",
       "      <td>499</td>\n",
       "      <td>s499_1</td>\n",
       "      <td>Untuk memastikan penyebabnya tentunya diperluk...</td>\n",
       "      <td>periksa keluh langsung konsultasi dokter laku ...</td>\n",
       "      <td>5</td>\n",
       "      <td>11</td>\n",
       "      <td>18</td>\n",
       "      <td>17</td>\n",
       "      <td>18</td>\n",
       "      <td>6</td>\n",
       "      <td>F3</td>\n",
       "    </tr>\n",
       "    <tr>\n",
       "      <th>2704</th>\n",
       "      <td>499</td>\n",
       "      <td>s499_2</td>\n",
       "      <td>Berikut ini anjuran bagi Anda: Istirahat yang ...</td>\n",
       "      <td>anjur istirahat konsumsi makan gizi daya tahan...</td>\n",
       "      <td>10</td>\n",
       "      <td>19</td>\n",
       "      <td>40</td>\n",
       "      <td>39</td>\n",
       "      <td>42</td>\n",
       "      <td>23</td>\n",
       "      <td>F5</td>\n",
       "    </tr>\n",
       "    <tr>\n",
       "      <th>2705</th>\n",
       "      <td>499</td>\n",
       "      <td>s499_3</td>\n",
       "      <td>Salam, dr Muliani Sukiman</td>\n",
       "      <td>salam dr muliani sukiman</td>\n",
       "      <td>4</td>\n",
       "      <td>0</td>\n",
       "      <td>0</td>\n",
       "      <td>0</td>\n",
       "      <td>0</td>\n",
       "      <td>0</td>\n",
       "      <td>F1</td>\n",
       "    </tr>\n",
       "  </tbody>\n",
       "</table>\n",
       "<p>2706 rows × 11 columns</p>\n",
       "</div>"
      ],
      "text/plain": [
       "      doc_id segment_id                                       segment_text  \\\n",
       "0          0       s0_0        Halo yayan, Terima kasih atas pertanyaannya   \n",
       "1          0       s0_1  Berdasarkan riwayat keluhan istri Anda yang su...   \n",
       "2          0       s0_2  Minum air, sup, atau minuman elektrolit untuk ...   \n",
       "3          0       s0_3  Apabila gejala tidak membaik dalam waktu 3 - 5...   \n",
       "4          1       s1_0  Halo Terima kasih atas pertanyaan yang disampa...   \n",
       "...      ...        ...                                                ...   \n",
       "2701     498     s498_5                           Semoga membantu, dr Mira   \n",
       "2702     499     s499_0  Hai Nyeri perut setelah buang air kecil dapat ...   \n",
       "2703     499     s499_1  Untuk memastikan penyebabnya tentunya diperluk...   \n",
       "2704     499     s499_2  Berikut ini anjuran bagi Anda: Istirahat yang ...   \n",
       "2705     499     s499_3                          Salam, dr Muliani Sukiman   \n",
       "\n",
       "                                   segment_text_cleaned  F1  F2  F3  F4  F5  \\\n",
       "0                               halo yayan terima kasih   4   0   1   0   2   \n",
       "1     dasar riwayat keluh istri muntah muntah diare ...  16  37  70  64  69   \n",
       "2     minum air sup minum elektrolit bantu cair tubu...   2   9  25  21  30   \n",
       "3     gejala muntah diare darah demam lemas langsung...  10   9  14  14  17   \n",
       "4            halo terima kasih alodokter paham khawatir   6   0   3   2   5   \n",
       "...                                                 ...  ..  ..  ..  ..  ..   \n",
       "2701                                 moga bantu dr mira   4   0   1   2   2   \n",
       "2702  hai nyeri perut buang air infeksi salur kemih ...   6  14  19  18  18   \n",
       "2703  periksa keluh langsung konsultasi dokter laku ...   5  11  18  17  18   \n",
       "2704  anjur istirahat konsumsi makan gizi daya tahan...  10  19  40  39  42   \n",
       "2705                           salam dr muliani sukiman   4   0   0   0   0   \n",
       "\n",
       "      F6 predicted_label  \n",
       "0      0              F1  \n",
       "1     45              F3  \n",
       "2     13              F5  \n",
       "3      9              F5  \n",
       "4      0              F1  \n",
       "...   ..             ...  \n",
       "2701   0              F1  \n",
       "2702  13              F3  \n",
       "2703   6              F3  \n",
       "2704  23              F5  \n",
       "2705   0              F1  \n",
       "\n",
       "[2706 rows x 11 columns]"
      ]
     },
     "execution_count": 11,
     "metadata": {},
     "output_type": "execute_result"
    }
   ],
   "source": [
    "segment_label"
   ]
  },
  {
   "cell_type": "markdown",
   "id": "1b93f2d4-3db3-4b3c-a3f1-7ba38e48e91b",
   "metadata": {},
   "source": [
    "# Cosine Similarity for each label\n",
    "\n",
    "Make a single, very-long sentence from all the words in each label (F1-F6), then compare it to each predicted segment using cosine similarity. If the value is ≥ 0.75, the label is accurate"
   ]
  },
  {
   "cell_type": "code",
   "execution_count": 12,
   "id": "b8afea4f-a4d6-444c-a21f-a6c4c6c94acf",
   "metadata": {},
   "outputs": [],
   "source": [
    "segment_label['cosine_similarity'] = ''"
   ]
  },
  {
   "cell_type": "code",
   "execution_count": 13,
   "id": "5e60fe7d-c093-440f-aeb3-ce5e2886f6bc",
   "metadata": {},
   "outputs": [],
   "source": [
    "def addCosineSimilarity(label: str):\n",
    "    f = open(f\"sentence_labels/{label}.txt\")\n",
    "    sentences = [s.strip() for s in f.readlines()]\n",
    "    sentences = [\" \".join(list(itertools.chain.from_iterable(list(filter(lambda s: len(s) > 1, [s.split() for s in sentences])))))]\n",
    "\n",
    "    for _, row in segment_label.iterrows():\n",
    "        if row['predicted_label'] == label:\n",
    "            sentences.append(row['segment_text_cleaned'])\n",
    "\n",
    "    vectorizer = CountVectorizer()\n",
    "    x = vectorizer.fit_transform(sentences)\n",
    "    similarities = pd.DataFrame(cosine_similarity(x))\n",
    "\n",
    "    i = 1\n",
    "    for index, row in segment_label.iterrows():\n",
    "        if row['predicted_label'] == label:\n",
    "            segment_label.loc[index, 'cosine_similarity'] = similarities[0][i]\n",
    "            i += 1"
   ]
  },
  {
   "cell_type": "code",
   "execution_count": 14,
   "id": "72ecf0a9-51fc-4d9b-b911-ad4e0ae19e87",
   "metadata": {},
   "outputs": [],
   "source": [
    "addCosineSimilarity('F1')\n",
    "addCosineSimilarity('F2')\n",
    "addCosineSimilarity('F3')\n",
    "addCosineSimilarity('F4')\n",
    "addCosineSimilarity('F5')\n",
    "addCosineSimilarity('F6')"
   ]
  },
  {
   "cell_type": "code",
   "execution_count": 75,
   "id": "b5ab15f8-7db3-4d6d-b516-701c9eb8b86d",
   "metadata": {},
   "outputs": [],
   "source": [
    "segment_label['is_label_correct'] = segment_label['cosine_similarity'].apply(lambda x: 1 if x >= 0.45 else 0)"
   ]
  },
  {
   "cell_type": "code",
   "execution_count": 76,
   "id": "88ee6f14-4ff1-49e0-87c7-551546293dc8",
   "metadata": {},
   "outputs": [
    {
     "name": "stdout",
     "output_type": "stream",
     "text": [
      "0    2078\n",
      "1     628\n",
      "Name: is_label_correct, dtype: int64\n"
     ]
    }
   ],
   "source": [
    "counts = segment_label['is_label_correct'].value_counts()\n",
    "print(counts)"
   ]
  },
  {
   "cell_type": "code",
   "execution_count": 17,
   "id": "3f2b40bf-c9b4-4a08-8caf-67cfb3fbff5e",
   "metadata": {},
   "outputs": [
    {
     "name": "stdout",
     "output_type": "stream",
     "text": [
      "F3    1547\n",
      "F1     560\n",
      "F5     454\n",
      "F4     123\n",
      "F2      19\n",
      "F6       3\n",
      "Name: predicted_label, dtype: int64\n"
     ]
    }
   ],
   "source": [
    "label_counts = segment_label['predicted_label'].value_counts()\n",
    "print(label_counts)"
   ]
  },
  {
   "cell_type": "code",
   "execution_count": 18,
   "id": "c58fa980-74f6-47a9-a87e-bcd7a4afaf88",
   "metadata": {},
   "outputs": [],
   "source": [
    "segment_label.to_csv('segment_label_cossim.csv', index=False)"
   ]
  },
  {
   "cell_type": "code",
   "execution_count": 60,
   "id": "5b827b65-8bb3-4b28-9653-4014d951222c",
   "metadata": {},
   "outputs": [
    {
     "data": {
      "text/plain": [
       "<Axes: >"
      ]
     },
     "execution_count": 60,
     "metadata": {},
     "output_type": "execute_result"
    },
    {
     "data": {
      "image/png": "[encoded data removed]",
      "text/plain": [
       "<Figure size 640x480 with 1 Axes>"
      ]
     },
     "metadata": {},
     "output_type": "display_data"
    }
   ],
   "source": [
    "segment_label.cosine_similarity.astype(float).round(2).hist(bins=40)"
   ]
  },
  {
   "cell_type": "code",
   "execution_count": 65,
   "id": "f2724ed9-84c2-4afa-a19c-5cad586463ed",
   "metadata": {},
   "outputs": [
    {
     "data": {
      "image/png": "[encoded data removed]",
      "text/plain": [
       "<Figure size 640x480 with 1 Axes>"
      ]
     },
     "metadata": {},
     "output_type": "display_data"
    }
   ],
   "source": [
    "counts = segment_label.groupby('doc_id').count()['segment_id']\n",
    "\n",
    "# plot the histogram of the counts\n",
    "counts.plot.hist(bins=range(1, max(counts)+2), align='left')\n",
    "\n",
    "# set the x-axis label\n",
    "plt.xlabel('Number of segments')\n",
    "\n",
    "# set the y-axis label\n",
    "plt.ylabel('Frequency')\n",
    "\n",
    "# show the plot\n",
    "plt.show()"
   ]
  },
  {
   "cell_type": "code",
   "execution_count": null,
   "id": "abc9d8e5-c9f5-46c9-9513-babe9f59f79e",
   "metadata": {},
   "outputs": [],
   "source": []
  }
 ],
 "metadata": {
  "kernelspec": {
   "display_name": "env",
   "language": "python",
   "name": "env"
  },
  "language_info": {
   "codemirror_mode": {
    "name": "ipython",
    "version": 3
   },
   "file_extension": ".py",
   "mimetype": "text/x-python",
   "name": "python",
   "nbconvert_exporter": "python",
   "pygments_lexer": "ipython3",
   "version": "3.9.16"
  }
 },
 "nbformat": 4,
 "nbformat_minor": 5
}
