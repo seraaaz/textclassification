{
 "cells": [
  {
   "cell_type": "code",
   "execution_count": 105,
   "metadata": {},
   "outputs": [],
   "source": [
    "from sklearn.feature_extraction.text import CountVectorizer\n",
    "from textsplit.tools import get_penalty, get_segments\n",
    "from textsplit.algorithm import split_optimal, split_greedy\n",
    "from nltk.corpus import stopwords\n",
    "from nltk.tokenize import word_tokenize\n",
    "from nltk.tokenize.treebank import TreebankWordDetokenizer\n",
    "\n",
    "import pandas as pd\n",
    "import re\n",
    "import spacy"
   ]
  },
  {
   "attachments": {},
   "cell_type": "markdown",
   "metadata": {},
   "source": [
    "# Load and Cleaning Data"
   ]
  },
  {
   "cell_type": "code",
   "execution_count": 106,
   "metadata": {},
   "outputs": [],
   "source": [
    "df = pd.read_csv(\"Data.csv\")"
   ]
  },
  {
   "cell_type": "code",
   "execution_count": 107,
   "metadata": {},
   "outputs": [
    {
     "data": {
      "text/html": [
       "<div>\n",
       "<style scoped>\n",
       "    .dataframe tbody tr th:only-of-type {\n",
       "        vertical-align: middle;\n",
       "    }\n",
       "\n",
       "    .dataframe tbody tr th {\n",
       "        vertical-align: top;\n",
       "    }\n",
       "\n",
       "    .dataframe thead th {\n",
       "        text-align: right;\n",
       "    }\n",
       "</style>\n",
       "<table border=\"1\" class=\"dataframe\">\n",
       "  <thead>\n",
       "    <tr style=\"text-align: right;\">\n",
       "      <th></th>\n",
       "      <th>Data</th>\n",
       "    </tr>\n",
       "  </thead>\n",
       "  <tbody>\n",
       "    <tr>\n",
       "      <th>0</th>\n",
       "      <td>Halo yayan, Terima kasih atas pertanyaannya</td>\n",
       "    </tr>\n",
       "    <tr>\n",
       "      <th>1</th>\n",
       "      <td>Berdasarkan riwayat keluhan istri Anda yang su...</td>\n",
       "    </tr>\n",
       "    <tr>\n",
       "      <th>2</th>\n",
       "      <td>Gejala muntah dan diare pada dasarnya merupaka...</td>\n",
       "    </tr>\n",
       "    <tr>\n",
       "      <th>3</th>\n",
       "      <td>Kondisi ini dapat membaik dengan sendirinya da...</td>\n",
       "    </tr>\n",
       "    <tr>\n",
       "      <th>4</th>\n",
       "      <td>Pantau terus gejala yang muncul, kembalikan ca...</td>\n",
       "    </tr>\n",
       "  </tbody>\n",
       "</table>\n",
       "</div>"
      ],
      "text/plain": [
       "                                                Data\n",
       "0        Halo yayan, Terima kasih atas pertanyaannya\n",
       "1  Berdasarkan riwayat keluhan istri Anda yang su...\n",
       "2  Gejala muntah dan diare pada dasarnya merupaka...\n",
       "3  Kondisi ini dapat membaik dengan sendirinya da...\n",
       "4  Pantau terus gejala yang muncul, kembalikan ca..."
      ]
     },
     "execution_count": 107,
     "metadata": {},
     "output_type": "execute_result"
    }
   ],
   "source": [
    "df.drop('IdData', inplace=True, axis=1)\n",
    "df.drop('Data Inggris', inplace=True, axis=1)\n",
    "df.drop('Label', inplace=True, axis=1)\n",
    "df.head(5)"
   ]
  },
  {
   "cell_type": "code",
   "execution_count": 108,
   "metadata": {},
   "outputs": [
    {
     "name": "stdout",
     "output_type": "stream",
     "text": [
      "Raw Corpus contains 793,347 characters\n"
     ]
    }
   ],
   "source": [
    "raw_corpus = u''.join(df['Data']+\" \")\n",
    "print(\"Raw Corpus contains {0:,} characters\".format(len(raw_corpus)))"
   ]
  },
  {
   "cell_type": "code",
   "execution_count": 109,
   "metadata": {},
   "outputs": [
    {
     "name": "stdout",
     "output_type": "stream",
     "text": [
      "The punkt tokenizer is loaded\n",
      "We have 75 raw sentences\n"
     ]
    }
   ],
   "source": [
    "tokenizer = nltk.data.load(\"tokenizers/punkt/english.pickle\")\n",
    "print(\"The punkt tokenizer is loaded\")\n",
    "# we tokenize the raw string into raw sentences\n",
    "raw_sentences = tokenizer.tokenize(raw_corpus)\n",
    "print(\"We have {0:,} raw sentences\".format(len(raw_sentences)))"
   ]
  },
  {
   "cell_type": "code",
   "execution_count": 110,
   "metadata": {},
   "outputs": [
    {
     "name": "stdout",
     "output_type": "stream",
     "text": [
      "75\n"
     ]
    }
   ],
   "source": [
    "tokenizer = nltk.data.load(\"tokenizers/punkt/english.pickle\")\n",
    "# we tokenize the raw string into raw sentences\n",
    "sentences = tokenizer.tokenize(corpus)\n",
    "print(len(sentences))"
   ]
  },
  {
   "cell_type": "code",
   "execution_count": 111,
   "metadata": {},
   "outputs": [],
   "source": [
    "def clean_and_split_str(string):\n",
    "    strip_special_chars = re.compile(\"[^A-Za-z]+\")\n",
    "    string = re.sub(strip_special_chars, \" \", string)\n",
    "    return string.strip().split()"
   ]
  },
  {
   "cell_type": "code",
   "execution_count": 112,
   "metadata": {},
   "outputs": [
    {
     "name": "stdout",
     "output_type": "stream",
     "text": [
      "We have 75 clean sentences\n"
     ]
    }
   ],
   "source": [
    "sentences = []\n",
    "for raw_sent in raw_sentences:\n",
    "    if len(raw_sent) > 0:\n",
    "        sentences.append(clean_and_split_str(raw_sent))\n",
    "print(\"We have {0:,} clean sentences\".format(len(sentences)))"
   ]
  },
  {
   "cell_type": "code",
   "execution_count": 113,
   "metadata": {},
   "outputs": [
    {
     "name": "stdout",
     "output_type": "stream",
     "text": [
      "Jika sudah, semestinya obat telah berhasil masuk ke tubuh Anda secara benar Hal ini ditandai dengan serangan asma yang mereda dan kekambuhannya yang bisa diminimalisasi Akan tetapi, jika tetap saja asma Anda tidak membaik, tidak ada salahnya Anda kembali periksa ke dokter atau dokter paru agar dievaluasi apa penyebabnya, lantas ditangani dengan tepat Semoga membantu ya Hai Keluhan yang dialami oleh suami Anda dapat diakibatkan oleh berbagai kemungkinan penyebab seperti: bronkhitis, Tuberkulosis / TBC, Pleuritis (radang selaput paru), Penyakit asam lambung, Gangguan jantung ( gagal jantung, serangan jantung ) dan sebagainya Untuk memastikan penyebabnya diperlukan pemeriksaan lebih lanjut oleh dokter , yaitu meliputi pemeriksaan fisik untuk memeriksa kondisi paru - paru dan jantung, serta pemeriksaan penunjang seperti tes darah, X - Ray, EKG dan sebagainya Oleh sebab itu jika keluhan terus berlanjut sebaiknya suami Anda berkonsultasi dengan dokter untuk menelusuri penyebabnya dan mendapatkan penanganan yang tepat sesuai kondisi Berikut anjuran yang dapat dilakukan: Istirahat dan tidur yang cukup Makan secara teratur dengan gizi seimbang Hindari jenis makanan yang terlalu asam, pedas, berlemak, atau makanan yang digoreng Jangan langsung berbaring setelah makan Berkumur dengan air hangat yang diberi sedikit garam akan membantu melembabkan tenggorokan dan meredakan batuk Batasi aktivitas berat yang berlebihan Kelola stres dengan bijak Baca laman artikel berikut ini: Batuk - batuk Penyebab nyeri dada sebelah kanan Demikian semoga bermanfaat Salam, dr Muliani Sukiman Halo Nolaa, terima kasih atas pertanyaannya untuk Alodokter Pemeriksaan kehamilan dengan menggunakan testpack memang sebaiknya dilakukan saat sudah terjadi keterlambatan menstruasi Bila siklus menstruasi anda biasanya terjadi setiap 28 hari, maka perkiraan siklus menstruasi anda di bulan Desember adalah tanggal 20 Desember Bila anda belum mengalami menstruasi hingga tanggal 21 Desember, anda dapat melakukan testpack dengan menggunakan kencing pertama di pagi hari agar hasil yang didapat lebih akurat Bila anda memperoleh hasil positif, maka anda tidak perlu mengulang pemeriksaan karena 99% hasil tersebut adalah benar Bila anda mendapat hasil negatif, maka anda dapat mengulang pemeriksaan 3 - 7 hari setelah pemeriksaan tersebut bila belum juga mendapat menstruasi Bila hasilnya tetap negatif, berarti anda tidak sedang hamil Melakukan hubungan seksual dengan penetrasi (memasukkan penis ke vagina) tetap memiliki risiko kehamilan Cairan pre - ejakulat pria atau cairan bening yang keluar dari penis saat penis mengalami ereksi atau saat mengalami stimulasi seksual, kadang dapat mengandung sperma yang hidup, sehingga meskipun kemungkinannya sangat kecil, cairan pre - ejakulat yang keluar di dalam vagina tetap dapat menyebabkan kehamilan Bila anda dan pasangan memang tidak menghendaki terjadinya kehamilan, sebaiknya anda dan pasangan mempertimbangkan penggunaan alat kontrasepsi untuk mencegah kehamilan Diskusikan dengan bidan atau dokter kandungan untuk pemilihan alat kontrasepsi yang paling sesuai untuk anda dan pasangan anda Berikut ini adalah artikel yang dapat anda baca terkait cara memilih alat kontrasepsi Sekian informasi dari saya, semoga bermanfaat dr Irna Cecilia Halo, Terima kasih atas pertanyaannya Ya, kehamilan dapat terjadi jika hubungan badan dilakukan setelah menstruasi Kehamilan dapat terjadi ketika sel sperma pria bertemu dengan sel telur wanita Sel telur yang baru mulai berkembang dalam ovarium atau indung telur saat dimulainya menstruasi Setelah matang, sel telur ini dilepaskan dari ovarium dan menuju saluran telur atau tuba falopi pada saat masa subur Pembuahan harus terjadi dalam waktu 24 jam setelah telur dilepaskan Bila pada saat ini terjadi hubungan seksual dan sperma masuk ke dalam vagina dan rahim, sperma dapat bertemu dan membuahi sel telur ini, dan kehamilan dapat terjadi Siklus menstruasi yang normal berkisar antara 21 - 35 hari yang dihitung dari hari pertama menstruasi sampai dengan hari pertama menstruasi berikutnya Masa subur dihitung berdasarkan siklus menstruasi setiap bulannya Umumnya masa subur wanita adalah 12 â€“ 16 hari sebelum hari pertama menstruasi berikutnya Tetapi, hal ini berlaku untuk wanita yang memiliki siklus menstruasi 28 hari Bagaimanakah siklus menstruasi pasangan Anda?\n",
      "\n",
      "['Jika', 'sudah', 'semestinya', 'obat', 'telah', 'berhasil', 'masuk', 'ke', 'tubuh', 'Anda', 'secara', 'benar', 'Hal', 'ini', 'ditandai', 'dengan', 'serangan', 'asma', 'yang', 'mereda', 'dan', 'kekambuhannya', 'yang', 'bisa', 'diminimalisasi', 'Akan', 'tetapi', 'jika', 'tetap', 'saja', 'asma', 'Anda', 'tidak', 'membaik', 'tidak', 'ada', 'salahnya', 'Anda', 'kembali', 'periksa', 'ke', 'dokter', 'atau', 'dokter', 'paru', 'agar', 'dievaluasi', 'apa', 'penyebabnya', 'lantas', 'ditangani', 'dengan', 'tepat', 'Semoga', 'membantu', 'ya', 'Hai', 'Keluhan', 'yang', 'dialami', 'oleh', 'suami', 'Anda', 'dapat', 'diakibatkan', 'oleh', 'berbagai', 'kemungkinan', 'penyebab', 'seperti', 'bronkhitis', 'Tuberkulosis', 'TBC', 'Pleuritis', 'radang', 'selaput', 'paru', 'Penyakit', 'asam', 'lambung', 'Gangguan', 'jantung', 'gagal', 'jantung', 'serangan', 'jantung', 'dan', 'sebagainya', 'Untuk', 'memastikan', 'penyebabnya', 'diperlukan', 'pemeriksaan', 'lebih', 'lanjut', 'oleh', 'dokter', 'yaitu', 'meliputi', 'pemeriksaan', 'fisik', 'untuk', 'memeriksa', 'kondisi', 'paru', 'paru', 'dan', 'jantung', 'serta', 'pemeriksaan', 'penunjang', 'seperti', 'tes', 'darah', 'X', 'Ray', 'EKG', 'dan', 'sebagainya', 'Oleh', 'sebab', 'itu', 'jika', 'keluhan', 'terus', 'berlanjut', 'sebaiknya', 'suami', 'Anda', 'berkonsultasi', 'dengan', 'dokter', 'untuk', 'menelusuri', 'penyebabnya', 'dan', 'mendapatkan', 'penanganan', 'yang', 'tepat', 'sesuai', 'kondisi', 'Berikut', 'anjuran', 'yang', 'dapat', 'dilakukan', 'Istirahat', 'dan', 'tidur', 'yang', 'cukup', 'Makan', 'secara', 'teratur', 'dengan', 'gizi', 'seimbang', 'Hindari', 'jenis', 'makanan', 'yang', 'terlalu', 'asam', 'pedas', 'berlemak', 'atau', 'makanan', 'yang', 'digoreng', 'Jangan', 'langsung', 'berbaring', 'setelah', 'makan', 'Berkumur', 'dengan', 'air', 'hangat', 'yang', 'diberi', 'sedikit', 'garam', 'akan', 'membantu', 'melembabkan', 'tenggorokan', 'dan', 'meredakan', 'batuk', 'Batasi', 'aktivitas', 'berat', 'yang', 'berlebihan', 'Kelola', 'stres', 'dengan', 'bijak', 'Baca', 'laman', 'artikel', 'berikut', 'ini', 'Batuk', 'batuk', 'Penyebab', 'nyeri', 'dada', 'sebelah', 'kanan', 'Demikian', 'semoga', 'bermanfaat', 'Salam', 'dr', 'Muliani', 'Sukiman', 'Halo', 'Nolaa', 'terima', 'kasih', 'atas', 'pertanyaannya', 'untuk', 'Alodokter', 'Pemeriksaan', 'kehamilan', 'dengan', 'menggunakan', 'testpack', 'memang', 'sebaiknya', 'dilakukan', 'saat', 'sudah', 'terjadi', 'keterlambatan', 'menstruasi', 'Bila', 'siklus', 'menstruasi', 'anda', 'biasanya', 'terjadi', 'setiap', 'hari', 'maka', 'perkiraan', 'siklus', 'menstruasi', 'anda', 'di', 'bulan', 'Desember', 'adalah', 'tanggal', 'Desember', 'Bila', 'anda', 'belum', 'mengalami', 'menstruasi', 'hingga', 'tanggal', 'Desember', 'anda', 'dapat', 'melakukan', 'testpack', 'dengan', 'menggunakan', 'kencing', 'pertama', 'di', 'pagi', 'hari', 'agar', 'hasil', 'yang', 'didapat', 'lebih', 'akurat', 'Bila', 'anda', 'memperoleh', 'hasil', 'positif', 'maka', 'anda', 'tidak', 'perlu', 'mengulang', 'pemeriksaan', 'karena', 'hasil', 'tersebut', 'adalah', 'benar', 'Bila', 'anda', 'mendapat', 'hasil', 'negatif', 'maka', 'anda', 'dapat', 'mengulang', 'pemeriksaan', 'hari', 'setelah', 'pemeriksaan', 'tersebut', 'bila', 'belum', 'juga', 'mendapat', 'menstruasi', 'Bila', 'hasilnya', 'tetap', 'negatif', 'berarti', 'anda', 'tidak', 'sedang', 'hamil', 'Melakukan', 'hubungan', 'seksual', 'dengan', 'penetrasi', 'memasukkan', 'penis', 'ke', 'vagina', 'tetap', 'memiliki', 'risiko', 'kehamilan', 'Cairan', 'pre', 'ejakulat', 'pria', 'atau', 'cairan', 'bening', 'yang', 'keluar', 'dari', 'penis', 'saat', 'penis', 'mengalami', 'ereksi', 'atau', 'saat', 'mengalami', 'stimulasi', 'seksual', 'kadang', 'dapat', 'mengandung', 'sperma', 'yang', 'hidup', 'sehingga', 'meskipun', 'kemungkinannya', 'sangat', 'kecil', 'cairan', 'pre', 'ejakulat', 'yang', 'keluar', 'di', 'dalam', 'vagina', 'tetap', 'dapat', 'menyebabkan', 'kehamilan', 'Bila', 'anda', 'dan', 'pasangan', 'memang', 'tidak', 'menghendaki', 'terjadinya', 'kehamilan', 'sebaiknya', 'anda', 'dan', 'pasangan', 'mempertimbangkan', 'penggunaan', 'alat', 'kontrasepsi', 'untuk', 'mencegah', 'kehamilan', 'Diskusikan', 'dengan', 'bidan', 'atau', 'dokter', 'kandungan', 'untuk', 'pemilihan', 'alat', 'kontrasepsi', 'yang', 'paling', 'sesuai', 'untuk', 'anda', 'dan', 'pasangan', 'anda', 'Berikut', 'ini', 'adalah', 'artikel', 'yang', 'dapat', 'anda', 'baca', 'terkait', 'cara', 'memilih', 'alat', 'kontrasepsi', 'Sekian', 'informasi', 'dari', 'saya', 'semoga', 'bermanfaat', 'dr', 'Irna', 'Cecilia', 'Halo', 'Terima', 'kasih', 'atas', 'pertanyaannya', 'Ya', 'kehamilan', 'dapat', 'terjadi', 'jika', 'hubungan', 'badan', 'dilakukan', 'setelah', 'menstruasi', 'Kehamilan', 'dapat', 'terjadi', 'ketika', 'sel', 'sperma', 'pria', 'bertemu', 'dengan', 'sel', 'telur', 'wanita', 'Sel', 'telur', 'yang', 'baru', 'mulai', 'berkembang', 'dalam', 'ovarium', 'atau', 'indung', 'telur', 'saat', 'dimulainya', 'menstruasi', 'Setelah', 'matang', 'sel', 'telur', 'ini', 'dilepaskan', 'dari', 'ovarium', 'dan', 'menuju', 'saluran', 'telur', 'atau', 'tuba', 'falopi', 'pada', 'saat', 'masa', 'subur', 'Pembuahan', 'harus', 'terjadi', 'dalam', 'waktu', 'jam', 'setelah', 'telur', 'dilepaskan', 'Bila', 'pada', 'saat', 'ini', 'terjadi', 'hubungan', 'seksual', 'dan', 'sperma', 'masuk', 'ke', 'dalam', 'vagina', 'dan', 'rahim', 'sperma', 'dapat', 'bertemu', 'dan', 'membuahi', 'sel', 'telur', 'ini', 'dan', 'kehamilan', 'dapat', 'terjadi', 'Siklus', 'menstruasi', 'yang', 'normal', 'berkisar', 'antara', 'hari', 'yang', 'dihitung', 'dari', 'hari', 'pertama', 'menstruasi', 'sampai', 'dengan', 'hari', 'pertama', 'menstruasi', 'berikutnya', 'Masa', 'subur', 'dihitung', 'berdasarkan', 'siklus', 'menstruasi', 'setiap', 'bulannya', 'Umumnya', 'masa', 'subur', 'wanita', 'adalah', 'hari', 'sebelum', 'hari', 'pertama', 'menstruasi', 'berikutnya', 'Tetapi', 'hal', 'ini', 'berlaku', 'untuk', 'wanita', 'yang', 'memiliki', 'siklus', 'menstruasi', 'hari', 'Bagaimanakah', 'siklus', 'menstruasi', 'pasangan', 'Anda']\n"
     ]
    }
   ],
   "source": [
    "print(raw_sentences[1])\n",
    "print()\n",
    "print(sentences[1])"
   ]
  },
  {
   "cell_type": "code",
   "execution_count": 114,
   "metadata": {},
   "outputs": [
    {
     "name": "stdout",
     "output_type": "stream",
     "text": [
      "The dataset corpus contains 109,515 tokens\n"
     ]
    }
   ],
   "source": [
    "token_count = sum([len(sentence) for sentence in sentences])\n",
    "print(\"The dataset corpus contains {0:,} tokens\".format(token_count))"
   ]
  },
  {
   "cell_type": "code",
   "execution_count": 115,
   "metadata": {},
   "outputs": [],
   "source": [
    "import multiprocessing\n",
    "#Dimensionality of the resulting word vectors\n",
    "num_features = 300\n",
    "\n",
    "#Minimum word count threshold\n",
    "min_word_count = 3\n",
    "\n",
    "#Number of threads to run in parallel\n",
    "num_workers = multiprocessing.cpu_count()\n",
    "\n",
    "#Context window length\n",
    "context_size = 7\n",
    "\n",
    "#Seed for the RNG, to make the result reproducible\n",
    "seed = 1"
   ]
  },
  {
   "cell_type": "code",
   "execution_count": 116,
   "metadata": {},
   "outputs": [],
   "source": [
    "import gensim\n",
    "\n",
    "word2vec_model = gensim.models.word2vec.Word2Vec(\n",
    "    sg=1,\n",
    "    seed=seed,\n",
    "    workers=num_workers, \n",
    "    vector_size=num_features, \n",
    "    min_count=min_word_count, \n",
    "    window=context_size)"
   ]
  },
  {
   "cell_type": "code",
   "execution_count": 117,
   "metadata": {},
   "outputs": [
    {
     "name": "stdout",
     "output_type": "stream",
     "text": [
      "The vocabulary is built\n",
      "Word2Vec vocabulary length:  2848\n"
     ]
    }
   ],
   "source": [
    "word2vec_model.build_vocab(sentences)\n",
    "print(\"The vocabulary is built\")\n",
    "print(\"Word2Vec vocabulary length: \", len(word2vec_model.wv))"
   ]
  },
  {
   "cell_type": "code",
   "execution_count": 120,
   "metadata": {},
   "outputs": [
    {
     "ename": "ValueError",
     "evalue": "You must specify either total_examples or total_words, for proper learning-rate and progress calculations. If you've just built the vocabulary using the same corpus, using the count cached in the model is sufficient: total_examples=model.corpus_count.",
     "output_type": "error",
     "traceback": [
      "\u001b[0;31m---------------------------------------------------------------------------\u001b[0m",
      "\u001b[0;31mValueError\u001b[0m                                Traceback (most recent call last)",
      "Cell \u001b[0;32mIn[120], line 1\u001b[0m\n\u001b[0;32m----> 1\u001b[0m word2vec_model\u001b[39m.\u001b[39;49mtrain(sentences)\n",
      "File \u001b[0;32m~/.pyenv/versions/3.10.8/lib/python3.10/site-packages/gensim/models/word2vec.py:1045\u001b[0m, in \u001b[0;36mWord2Vec.train\u001b[0;34m(self, corpus_iterable, corpus_file, total_examples, total_words, epochs, start_alpha, end_alpha, word_count, queue_factor, report_delay, compute_loss, callbacks, **kwargs)\u001b[0m\n\u001b[1;32m   1042\u001b[0m \u001b[39mself\u001b[39m\u001b[39m.\u001b[39mmin_alpha \u001b[39m=\u001b[39m end_alpha \u001b[39mor\u001b[39;00m \u001b[39mself\u001b[39m\u001b[39m.\u001b[39mmin_alpha\n\u001b[1;32m   1043\u001b[0m \u001b[39mself\u001b[39m\u001b[39m.\u001b[39mepochs \u001b[39m=\u001b[39m epochs\n\u001b[0;32m-> 1045\u001b[0m \u001b[39mself\u001b[39;49m\u001b[39m.\u001b[39;49m_check_training_sanity(epochs\u001b[39m=\u001b[39;49mepochs, total_examples\u001b[39m=\u001b[39;49mtotal_examples, total_words\u001b[39m=\u001b[39;49mtotal_words)\n\u001b[1;32m   1046\u001b[0m \u001b[39mself\u001b[39m\u001b[39m.\u001b[39m_check_corpus_sanity(corpus_iterable\u001b[39m=\u001b[39mcorpus_iterable, corpus_file\u001b[39m=\u001b[39mcorpus_file, passes\u001b[39m=\u001b[39mepochs)\n\u001b[1;32m   1048\u001b[0m \u001b[39mself\u001b[39m\u001b[39m.\u001b[39madd_lifecycle_event(\n\u001b[1;32m   1049\u001b[0m     \u001b[39m\"\u001b[39m\u001b[39mtrain\u001b[39m\u001b[39m\"\u001b[39m,\n\u001b[1;32m   1050\u001b[0m     msg\u001b[39m=\u001b[39m(\n\u001b[0;32m   (...)\u001b[0m\n\u001b[1;32m   1054\u001b[0m     ),\n\u001b[1;32m   1055\u001b[0m )\n",
      "File \u001b[0;32m~/.pyenv/versions/3.10.8/lib/python3.10/site-packages/gensim/models/word2vec.py:1548\u001b[0m, in \u001b[0;36mWord2Vec._check_training_sanity\u001b[0;34m(self, epochs, total_examples, total_words, **kwargs)\u001b[0m\n\u001b[1;32m   1545\u001b[0m     \u001b[39mraise\u001b[39;00m \u001b[39mRuntimeError\u001b[39;00m(\u001b[39m\"\u001b[39m\u001b[39myou must initialize vectors before training the model\u001b[39m\u001b[39m\"\u001b[39m)\n\u001b[1;32m   1547\u001b[0m \u001b[39mif\u001b[39;00m total_words \u001b[39mis\u001b[39;00m \u001b[39mNone\u001b[39;00m \u001b[39mand\u001b[39;00m total_examples \u001b[39mis\u001b[39;00m \u001b[39mNone\u001b[39;00m:\n\u001b[0;32m-> 1548\u001b[0m     \u001b[39mraise\u001b[39;00m \u001b[39mValueError\u001b[39;00m(\n\u001b[1;32m   1549\u001b[0m         \u001b[39m\"\u001b[39m\u001b[39mYou must specify either total_examples or total_words, for proper learning-rate \u001b[39m\u001b[39m\"\u001b[39m\n\u001b[1;32m   1550\u001b[0m         \u001b[39m\"\u001b[39m\u001b[39mand progress calculations. \u001b[39m\u001b[39m\"\u001b[39m\n\u001b[1;32m   1551\u001b[0m         \u001b[39m\"\u001b[39m\u001b[39mIf you\u001b[39m\u001b[39m'\u001b[39m\u001b[39mve just built the vocabulary using the same corpus, using the count cached \u001b[39m\u001b[39m\"\u001b[39m\n\u001b[1;32m   1552\u001b[0m         \u001b[39m\"\u001b[39m\u001b[39min the model is sufficient: total_examples=model.corpus_count.\u001b[39m\u001b[39m\"\u001b[39m\n\u001b[1;32m   1553\u001b[0m     )\n\u001b[1;32m   1554\u001b[0m \u001b[39mif\u001b[39;00m epochs \u001b[39mis\u001b[39;00m \u001b[39mNone\u001b[39;00m \u001b[39mor\u001b[39;00m epochs \u001b[39m<\u001b[39m\u001b[39m=\u001b[39m \u001b[39m0\u001b[39m:\n\u001b[1;32m   1555\u001b[0m     \u001b[39mraise\u001b[39;00m \u001b[39mValueError\u001b[39;00m(\u001b[39m\"\u001b[39m\u001b[39mYou must specify an explicit epochs count. The usual value is epochs=model.epochs.\u001b[39m\u001b[39m\"\u001b[39m)\n",
      "\u001b[0;31mValueError\u001b[0m: You must specify either total_examples or total_words, for proper learning-rate and progress calculations. If you've just built the vocabulary using the same corpus, using the count cached in the model is sufficient: total_examples=model.corpus_count."
     ]
    }
   ],
   "source": []
  }
 ],
 "metadata": {
  "kernelspec": {
   "display_name": "Python 3",
   "language": "python",
   "name": "python3"
  },
  "language_info": {
   "codemirror_mode": {
    "name": "ipython",
    "version": 3
   },
   "file_extension": ".py",
   "mimetype": "text/x-python",
   "name": "python",
   "nbconvert_exporter": "python",
   "pygments_lexer": "ipython3",
   "version": "3.10.8"
  },
  "orig_nbformat": 4
 },
 "nbformat": 4,
 "nbformat_minor": 2
}
