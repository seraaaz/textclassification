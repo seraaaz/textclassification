{
 "cells": [
  {
   "cell_type": "markdown",
   "id": "7a37cbe6-2302-4d34-aa52-abf1cd36893d",
   "metadata": {},
   "source": [
    "### Load data input"
   ]
  },
  {
   "cell_type": "code",
   "execution_count": 1,
   "id": "887e7565-73a7-4c50-b9fb-fc929fe6bbca",
   "metadata": {},
   "outputs": [],
   "source": [
    "import pandas as pd\n",
    "\n",
    "df = pd.read_csv('./data_full.csv')"
   ]
  },
  {
   "cell_type": "markdown",
   "id": "df3964cf-7379-4436-9778-bcc41387b179",
   "metadata": {},
   "source": [
    "### Fungsi Untuk Kalkulasi AC1"
   ]
  },
  {
   "cell_type": "code",
   "execution_count": 6,
   "id": "da310a78-277e-478e-ba59-ba7b4107ee1d",
   "metadata": {},
   "outputs": [],
   "source": [
    "ac1_data = {\n",
    "    'doc_id': [],\n",
    "    'greedy_ac1_score' : [],\n",
    "    'optimal_ac1_score' : [],\n",
    "}\n",
    "\n",
    "for i in range(500):\n",
    "    if i == 87: continue\n",
    "    ac1_data['doc_id'].append(i)\n",
    "\n",
    "def avg(arr):\n",
    "    return sum(arr) / len(arr)\n",
    "\n",
    "def calculate_ac1(doc_number: int, df, label_name: str, ac1_result_arr: list):\n",
    "    for doc_id in range(doc_number):\n",
    "        # skip document 87\n",
    "        if doc_id == 87: continue\n",
    "        \n",
    "        labels = ['F1', 'F2', 'F3', 'F4', 'F5', 'F6']\n",
    "        \n",
    "        label_annotator = []\n",
    "        label_program = []\n",
    "        \n",
    "        for _, row in df.iterrows():\n",
    "            if row['doc_id'] == doc_id:\n",
    "                label_annotator.append(row['label_annotator'])\n",
    "                label_program.append(row[label_name])\n",
    "        \n",
    "        ac1_scores = []\n",
    "        \n",
    "        for label in labels:\n",
    "            if label in label_annotator:\n",
    "                A = len([1 for x, y in zip(label_program, label_annotator) if x == label and y == label])\n",
    "                B = len([1 for x, y in zip(label_program, label_annotator) if x != label and y == label])\n",
    "                C = len([1 for x, y in zip(label_program, label_annotator) if x == label and y != label])\n",
    "                D = len([1 for x, y in zip(label_program, label_annotator) if x != label and y != label])\n",
    "                \n",
    "                N = len(label_annotator) # jumlah data\n",
    "                A1 = A + C\n",
    "                A2 = B + D\n",
    "                B1 = A + B\n",
    "                B2 = C + D\n",
    "\n",
    "                p = (A + D) / N\n",
    "                q = (A1 + B1) / (2 * N)\n",
    "                ey = 2 * q * (1 - q)\n",
    "                ac1 = (p - ey) / (1 - ey)\n",
    "                \n",
    "                ac1_scores.append(ac1)\n",
    "        \n",
    "        ac1_result_arr.append(avg(ac1_scores))"
   ]
  },
  {
   "cell_type": "markdown",
   "id": "75f2dadd-15fb-4df9-a422-eb401e7c81f9",
   "metadata": {},
   "source": [
    "### Kalkulasi AC1 untuk label segmen greedy"
   ]
  },
  {
   "cell_type": "code",
   "execution_count": 7,
   "id": "bcc00ddc-e0fe-4054-bf14-fde47cfb7bf7",
   "metadata": {},
   "outputs": [],
   "source": [
    "calculate_ac1(500, df, 'label_greedy', ac1_data['greedy_ac1_score'])"
   ]
  },
  {
   "cell_type": "markdown",
   "id": "0fb7adab-23de-4eae-b028-e8e9d7cbc89f",
   "metadata": {},
   "source": [
    "### Kalkulasi AC1 untuk label segmen optimal"
   ]
  },
  {
   "cell_type": "code",
   "execution_count": null,
   "id": "9b2aa3e2-8845-49f3-8610-d7c691ac0149",
   "metadata": {},
   "outputs": [],
   "source": [
    "calculate_ac1(500, df, 'label_optimal', ac1_data['optimal_ac1_score'])"
   ]
  },
  {
   "cell_type": "markdown",
   "id": "d6bdb80e-4381-4110-ade1-4ce0b5bb6318",
   "metadata": {
    "tags": []
   },
   "source": [
    "### Export hasil dalam format CSV"
   ]
  },
  {
   "cell_type": "code",
   "execution_count": 21,
   "id": "ce772094-4801-4dee-86ab-374db0176e54",
   "metadata": {},
   "outputs": [],
   "source": [
    "ac1_result_df = pd.DataFrame(ac1_data)\n",
    "\n",
    "ac1_result_df.to_csv('gwet_ac1_result.csv', index=False)"
   ]
  }
 ],
 "metadata": {
  "kernelspec": {
   "display_name": "Python 3 (ipykernel)",
   "language": "python",
   "name": "python3"
  },
  "language_info": {
   "codemirror_mode": {
    "name": "ipython",
    "version": 3
   },
   "file_extension": ".py",
   "mimetype": "text/x-python",
   "name": "python",
   "nbconvert_exporter": "python",
   "pygments_lexer": "ipython3",
   "version": "3.9.16"
  },
  "vscode": {
   "interpreter": {
    "hash": "e28cd74ba0ec6688f339271b356a75e26835888429ca1b755b7df4c0a81038e6"
   }
  }
 },
 "nbformat": 4,
 "nbformat_minor": 5
}
