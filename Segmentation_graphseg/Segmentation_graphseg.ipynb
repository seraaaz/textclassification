{
 "cells": [
  {
   "cell_type": "markdown",
   "id": "4940f53f-4776-4148-a230-897b5649aa1e",
   "metadata": {},
   "source": [
    "### Import and load the neccessary file"
   ]
  },
  {
   "cell_type": "code",
   "execution_count": 1,
   "id": "37b4f338-3aa8-462a-b4ed-ae9cc46ab476",
   "metadata": {},
   "outputs": [],
   "source": [
    "import pandas as pd"
   ]
  },
  {
   "cell_type": "code",
   "execution_count": 2,
   "id": "e8a7ab15-ab11-48a9-b297-0c3613cb40d2",
   "metadata": {},
   "outputs": [],
   "source": [
    "df = pd.read_csv(\"./data_translated.csv\")"
   ]
  },
  {
   "cell_type": "markdown",
   "id": "4a22214d-da95-4d7c-9f28-da625edf7367",
   "metadata": {},
   "source": [
    "### Write each document to input folder"
   ]
  },
  {
   "cell_type": "code",
   "execution_count": 4,
   "id": "a137c266-088c-4362-844e-7607980c1a36",
   "metadata": {},
   "outputs": [],
   "source": [
    "for i in range(500):\n",
    "    file = open(f\"input/data_{i}.txt\", \"w\")\n",
    "    \n",
    "    for _, row in df.iterrows():\n",
    "        if row['doc_id'] == i:\n",
    "            file.write(row['sentence_text_translated'] + \"\\n\")\n",
    "    \n",
    "    file.close()"
   ]
  },
  {
   "cell_type": "markdown",
   "id": "fac5ccf0-23a3-4b84-85f2-c5bc7d4e7972",
   "metadata": {},
   "source": [
    "### Run graphseg"
   ]
  },
  {
   "cell_type": "code",
   "execution_count": null,
   "id": "ba47da71-c69b-4d3e-8e67-003d63da74bd",
   "metadata": {},
   "outputs": [],
   "source": [
    "## Shell command\n",
    "\n",
    "!java -jar binary/graphseg.jar input/ output/ 1 1 > /dev/null"
   ]
  },
  {
   "cell_type": "markdown",
   "id": "9d723aeb-d004-49f3-8291-b897ab6d5340",
   "metadata": {},
   "source": [
    "### Process graphseg output"
   ]
  },
  {
   "cell_type": "code",
   "execution_count": 28,
   "id": "9f69c36c-e9a4-4ca3-9927-da7b61d63e2c",
   "metadata": {},
   "outputs": [],
   "source": [
    "segments = {\n",
    "    \"doc_id\" : [],\n",
    "    \"segment_id\" : [],\n",
    "    \"sentence_id\" : [],\n",
    "}\n",
    "\n",
    "for doc_id in range(500):\n",
    "    with open(f\"output/data_{doc_id}.txt\") as file:\n",
    "        segment_id = 0\n",
    "        sentence_id = -1\n",
    "\n",
    "        for line in file:\n",
    "            line = line.rstrip()\n",
    "\n",
    "            if line == \"==========\":\n",
    "                segment_id += 1\n",
    "                continue\n",
    "            else:\n",
    "                sentence_id += 1\n",
    "\n",
    "            segments['doc_id'].append(doc_id)\n",
    "            segments['segment_id'].append(f\"s{doc_id}_{segment_id}\")\n",
    "            segments['sentence_id'].append(f\"{doc_id}_{sentence_id}\")"
   ]
  },
  {
   "cell_type": "markdown",
   "id": "21e3b95c-4087-47ef-9925-619e4e4b0b7c",
   "metadata": {},
   "source": [
    "### Save dataframe to CSV"
   ]
  },
  {
   "cell_type": "code",
   "execution_count": 29,
   "id": "348e26f2-fcb1-464c-aeb4-a98f155e77b7",
   "metadata": {
    "tags": []
   },
   "outputs": [],
   "source": [
    "from datetime import date\n",
    "\n",
    "today = date.today()\n",
    "\n",
    "out_df = pd.DataFrame(segments)\n",
    "out_df.to_csv(f\"graphseg_output_{today.strftime('%d%m%Y')}.csv\", index=False)"
   ]
  }
 ],
 "metadata": {
  "kernelspec": {
   "display_name": "env",
   "language": "python",
   "name": "env"
  },
  "language_info": {
   "codemirror_mode": {
    "name": "ipython",
    "version": 3
   },
   "file_extension": ".py",
   "mimetype": "text/x-python",
   "name": "python",
   "nbconvert_exporter": "python",
   "pygments_lexer": "ipython3",
   "version": "3.10.9"
  }
 },
 "nbformat": 4,
 "nbformat_minor": 5
}
