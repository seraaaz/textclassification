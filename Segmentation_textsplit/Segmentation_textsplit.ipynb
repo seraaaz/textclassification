{
 "cells": [
  {
   "cell_type": "markdown",
   "id": "27d6b850-bc2d-4fa9-8016-18582c1a0543",
   "metadata": {},
   "source": [
    "### Load file `input2.csv`"
   ]
  },
  {
   "cell_type": "code",
   "execution_count": 1,
   "id": "4073fd38-e7dc-407d-bd51-94a17d577e4a",
   "metadata": {},
   "outputs": [],
   "source": [
    "import pandas as pd\n",
    "\n",
    "df = pd.read_csv(\"input2.csv\")"
   ]
  },
  {
   "cell_type": "markdown",
   "id": "3a092d2b-b56e-4c38-89a6-e7df4280ab12",
   "metadata": {},
   "source": [
    "### Load pretrained model Word2Vec"
   ]
  },
  {
   "cell_type": "code",
   "execution_count": 2,
   "id": "56a93f11-ccff-45b7-8be8-93509bf3fec0",
   "metadata": {},
   "outputs": [],
   "source": [
    "from gensim.models import Word2Vec\n",
    "\n",
    "model = Word2Vec.load(\"idwiki_word2vec_200/idwiki_word2vec_200.model\")"
   ]
  },
  {
   "cell_type": "markdown",
   "id": "a8487b5c-b2e1-47cf-9025-fb7e6ba04073",
   "metadata": {},
   "source": [
    "### Create WordVector from model\n",
    "\n",
    "Source: https://stackoverflow.com/questions/46885454/how-to-create-a-dataframe-with-the-word2ve-vectors-as-data-and-the-terms-as-row"
   ]
  },
  {
   "cell_type": "code",
   "execution_count": 3,
   "id": "0cd1b50b-5bf5-4c6e-8517-4cd005d16388",
   "metadata": {},
   "outputs": [],
   "source": [
    "ordered_vocab = [(v, model.wv.key_to_index[v], model.wv.get_vecattr(v, \"count\")) for v in model.wv.index_to_key]\n",
    "ordered_vocab = sorted(ordered_vocab, key=lambda k: k[2])\n",
    "ordered_terms, term_indices, term_counts = zip(*ordered_vocab)\n",
    "wordvec = pd.DataFrame(model.wv.vectors[term_indices, :], index=ordered_terms)"
   ]
  },
  {
   "cell_type": "markdown",
   "id": "f396b842-40e6-40b7-9c39-9b535cee8eaf",
   "metadata": {},
   "source": [
    "### Create CountVectorizer"
   ]
  },
  {
   "cell_type": "code",
   "execution_count": 4,
   "id": "ed3ddb22-938b-4c6f-a703-7463472af030",
   "metadata": {},
   "outputs": [],
   "source": [
    "from sklearn.feature_extraction.text import CountVectorizer\n",
    "\n",
    "count_vec = CountVectorizer(vocabulary=wordvec.index)"
   ]
  },
  {
   "cell_type": "markdown",
   "id": "a2967fbb-9f39-43d4-b621-3091737d8ab6",
   "metadata": {},
   "source": [
    "### Segmentation using the optimal algorithm"
   ]
  },
  {
   "cell_type": "code",
   "execution_count": 22,
   "id": "e70c9d2c-7586-405a-8bbd-4ed58809ab43",
   "metadata": {},
   "outputs": [
    {
     "name": "stdout",
     "output_type": "stream",
     "text": [
      "doc_id 87 is too short (2)\n",
      "doc_id 269 is too short (5)\n"
     ]
    }
   ],
   "source": [
    "from textsplit.tools import get_penalty, get_segments\n",
    "from textsplit.algorithm import split_optimal, split_greedy\n",
    "\n",
    "segment_len = 3\n",
    "\n",
    "out = {\n",
    "    \"doc_id\": [],\n",
    "    \"segment_id\": [],\n",
    "    \"sentence_id\": [],\n",
    "}\n",
    "\n",
    "for doc_id in range(500):\n",
    "    sentence_text = []\n",
    "    for _, row in df.iterrows():\n",
    "        if row[\"doc_id\"] == doc_id:\n",
    "            sentence_text.append(row[\"sentence_text\"])\n",
    "    \n",
    "    sentence_vec = count_vec.transform(sentence_text).dot(wordvec)\n",
    "    \n",
    "    try:\n",
    "        penalty = get_penalty([sentence_vec], segment_len)\n",
    "    except ValueError:\n",
    "        print(f\"doc_id {doc_id} is too short ({len(sentence_text)})\")\n",
    "        continue\n",
    "    \n",
    "    optimal_segmentation = split_optimal(sentence_vec, penalty, seg_limit=250)\n",
    "    # segment_text = get_segments(sentence_text, optimal_segmentation)\n",
    "    \n",
    "    # uncomment when processing using greedy method\n",
    "    greedy_segmentation = split_greedy(sentence_vec, max_splits=len(optimal_segmentation.splits))\n",
    "    greedy_segment_text = get_segments(sentence_text, greedy_segmentation)\n",
    "    \n",
    "    sent_id = 0\n",
    "    \n",
    "    for seg_id, seg in enumerate(greedy_segment_text):\n",
    "        for sentence in seg:\n",
    "            out[\"doc_id\"].append(doc_id)\n",
    "            out[\"segment_id\"].append(f\"s{doc_id}_{seg_id}\")\n",
    "            out[\"sentence_id\"].append(f\"{doc_id}_{sent_id}\")\n",
    "            sent_id += 1"
   ]
  },
  {
   "cell_type": "markdown",
   "id": "389146bc-8fda-4282-9535-365ca5551ee5",
   "metadata": {},
   "source": [
    "### Export the output to CSV"
   ]
  },
  {
   "cell_type": "code",
   "execution_count": 21,
   "id": "5e52d7f0-0076-4920-974c-3f661ecde756",
   "metadata": {},
   "outputs": [],
   "source": [
    "# OPTIMAL\n",
    "from datetime import date\n",
    "\n",
    "today = date.today()\n",
    "\n",
    "out_df = pd.DataFrame(out)\n",
    "out_df.to_csv(f\"textsplit_optimal_output_{today.strftime('%d%m%Y')}.csv\", index=False)"
   ]
  },
  {
   "cell_type": "code",
   "execution_count": 23,
   "id": "2849e5d2-a213-4448-9a35-c3458686b2e4",
   "metadata": {},
   "outputs": [],
   "source": [
    "out_df = pd.DataFrame(out)\n",
    "out_df.to_csv(f\"textsplit_greedy_output_{today.strftime('%d%m%Y')}.csv\", index=False)"
   ]
  },
  {
   "cell_type": "code",
   "execution_count": null,
   "id": "ded5dfdd-0625-4595-a76a-e20f22a62569",
   "metadata": {},
   "outputs": [],
   "source": []
  }
 ],
 "metadata": {
  "kernelspec": {
   "display_name": "env",
   "language": "python",
   "name": "env"
  },
  "language_info": {
   "codemirror_mode": {
    "name": "ipython",
    "version": 3
   },
   "file_extension": ".py",
   "mimetype": "text/x-python",
   "name": "python",
   "nbconvert_exporter": "python",
   "pygments_lexer": "ipython3",
   "version": "3.10.9"
  }
 },
 "nbformat": 4,
 "nbformat_minor": 5
}
