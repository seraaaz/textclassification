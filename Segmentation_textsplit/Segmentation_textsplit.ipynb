{
 "cells": [
  {
   "cell_type": "markdown",
   "id": "27d6b850-bc2d-4fa9-8016-18582c1a0543",
   "metadata": {},
   "source": [
    "# Import required libraries"
   ]
  },
  {
   "cell_type": "code",
   "execution_count": 1,
   "id": "4073fd38-e7dc-407d-bd51-94a17d577e4a",
   "metadata": {},
   "outputs": [],
   "source": [
    "from sklearn.feature_extraction.text import CountVectorizer\n",
    "from gensim.models import Word2Vec\n",
    "from textsplit.tools import get_penalty, get_segments\n",
    "from textsplit.algorithm import split_optimal, split_greedy\n",
    "from nltk.corpus import stopwords\n",
    "from nltk.tokenize import word_tokenize\n",
    "from nltk.tokenize.treebank import TreebankWordDetokenizer\n",
    "from nlp_id.lemmatizer import Lemmatizer\n",
    "\n",
    "import pandas as pd\n",
    "import re"
   ]
  },
  {
   "cell_type": "markdown",
   "id": "5720ba1d-28fc-4a00-8324-65825a0fa9c6",
   "metadata": {},
   "source": [
    "# Load and preproccess data"
   ]
  },
  {
   "cell_type": "code",
   "execution_count": 2,
   "id": "50c522f5-e0c7-4536-a1b4-904f2727a5c3",
   "metadata": {},
   "outputs": [],
   "source": [
    "df = pd.read_csv(\"Data.csv\")\n",
    "\n",
    "df['IdKalimat'] = df.groupby('IdData').cumcount()\n",
    "df['DataCleaned'] = ''\n",
    "df = df[['IdData', 'IdKalimat', 'Data', 'DataCleaned', 'Label']]"
   ]
  },
  {
   "cell_type": "code",
   "execution_count": 3,
   "id": "dd05f9fa-4fff-45e1-abaa-8ce2203b8ef8",
   "metadata": {},
   "outputs": [],
   "source": [
    "lemmatizer = Lemmatizer()\n",
    "stop_words = stopwords.words(\"indonesian\")\n",
    "word_detokenizer = TreebankWordDetokenizer()\n",
    "\n",
    "df['DataCleaned'] = df['Data'].str.lower()\n",
    "df['DataCleaned'] = df['DataCleaned'].apply(lambda s: re.sub(r'[^\\w\\s]', '', re.sub(r'\\d+', '', s)))\n",
    "df['DataCleaned'] = df['DataCleaned'].apply(lambda s: lemmatizer.lemmatize(s))\n",
    "df['DataCleaned'] = df['DataCleaned'].apply(lambda s: [v for v in s.split() if v not in stop_words])\n",
    "df['DataCleaned'] = df['DataCleaned'].apply(lambda s: word_detokenizer.detokenize(s))"
   ]
  },
  {
   "cell_type": "markdown",
   "id": "3a092d2b-b56e-4c38-89a6-e7df4280ab12",
   "metadata": {},
   "source": [
    "# Load Word2Vec model"
   ]
  },
  {
   "cell_type": "code",
   "execution_count": 4,
   "id": "56a93f11-ccff-45b7-8be8-93509bf3fec0",
   "metadata": {},
   "outputs": [],
   "source": [
    "model = Word2Vec.load(\"idwiki_word2vec_200/idwiki_word2vec_200.model\")"
   ]
  },
  {
   "cell_type": "markdown",
   "id": "a8487b5c-b2e1-47cf-9025-fb7e6ba04073",
   "metadata": {},
   "source": [
    "# Create WordVector from model\n",
    "\n",
    "Source: https://stackoverflow.com/questions/46885454/how-to-create-a-dataframe-with-the-word2ve-vectors-as-data-and-the-terms-as-row"
   ]
  },
  {
   "cell_type": "code",
   "execution_count": 5,
   "id": "0cd1b50b-5bf5-4c6e-8517-4cd005d16388",
   "metadata": {},
   "outputs": [],
   "source": [
    "ordered_vocab = [(v, model.wv.key_to_index[v], model.wv.get_vecattr(v, \"count\")) for v in model.wv.index_to_key]\n",
    "ordered_vocab = sorted(ordered_vocab, key=lambda k: k[2])\n",
    "ordered_terms, term_indices, term_counts = zip(*ordered_vocab)\n",
    "wordvec = pd.DataFrame(model.wv.vectors[term_indices, :], index=ordered_terms)"
   ]
  },
  {
   "cell_type": "markdown",
   "id": "f396b842-40e6-40b7-9c39-9b535cee8eaf",
   "metadata": {},
   "source": [
    "# Create CountVectorizer"
   ]
  },
  {
   "cell_type": "code",
   "execution_count": 6,
   "id": "ed3ddb22-938b-4c6f-a703-7463472af030",
   "metadata": {},
   "outputs": [],
   "source": [
    "count_vec = CountVectorizer(vocabulary=wordvec.index)"
   ]
  },
  {
   "cell_type": "markdown",
   "id": "a2967fbb-9f39-43d4-b621-3091737d8ab6",
   "metadata": {},
   "source": [
    "# Segmentation optimal & greedy"
   ]
  },
  {
   "cell_type": "code",
   "execution_count": 11,
   "id": "e70c9d2c-7586-405a-8bbd-4ed58809ab43",
   "metadata": {},
   "outputs": [],
   "source": [
    "segment_length = 3\n",
    "segment_result = {\n",
    "    'DataEditOptimal': [],\n",
    "    'DataEditGreedy': [],\n",
    "}\n",
    "\n",
    "for IdData in df['IdData'].unique():\n",
    "    sentence_text = df.loc[df['IdData'] == IdData, 'Data']\n",
    "    sentence_vec = count_vec.transform(sentence_text).dot(wordvec)\n",
    "    \n",
    "    try:\n",
    "        penalty = get_penalty([sentence_vec], segment_length)\n",
    "    except ValueError:\n",
    "        print(f\"doc_id {doc_id} is too short ({len(sentence_text)})\")\n",
    "        continue\n",
    "    \n",
    "    optimal_segmentation = split_optimal(sentence_vec, penalty, seg_limit=250)\n",
    "    optimal_segment_text = get_segments(sentence_text, optimal_segmentation)\n",
    "    \n",
    "    greedy_segmentation = split_greedy(sentence_vec, max_splits=len(optimal_segmentation.splits))\n",
    "    greedy_segment_text = get_segments(sentence_text, greedy_segmentation)\n",
    "\n",
    "    for seg_id, segment in enumerate(greedy_segment_text):\n",
    "        for _ in segment:\n",
    "            segment_result['DataEditGreedy'].append(seg_id)\n",
    "    \n",
    "    for seg_id, segment in enumerate(optimal_segment_text):\n",
    "        for _ in segment:\n",
    "            segment_result['DataEditOptimal'].append(seg_id)"
   ]
  },
  {
   "cell_type": "markdown",
   "id": "389146bc-8fda-4282-9535-365ca5551ee5",
   "metadata": {},
   "source": [
    "# Export result to CSV"
   ]
  },
  {
   "cell_type": "code",
   "execution_count": 12,
   "id": "0055f96d-927b-4f98-9dce-2305a8da0408",
   "metadata": {},
   "outputs": [],
   "source": [
    "df['DataEditGreedy'] = segment_result['DataEditGreedy']\n",
    "df['DataEditOptimal'] = segment_result['DataEditOptimal']\n",
    "\n",
    "df.to_csv('OutputTextsplit.csv', index=False)"
   ]
  }
 ],
 "metadata": {
  "kernelspec": {
   "display_name": "env",
   "language": "python",
   "name": "env"
  },
  "language_info": {
   "codemirror_mode": {
    "name": "ipython",
    "version": 3
   },
   "file_extension": ".py",
   "mimetype": "text/x-python",
   "name": "python",
   "nbconvert_exporter": "python",
   "pygments_lexer": "ipython3",
   "version": "3.9.16"
  }
 },
 "nbformat": 4,
 "nbformat_minor": 5
}
