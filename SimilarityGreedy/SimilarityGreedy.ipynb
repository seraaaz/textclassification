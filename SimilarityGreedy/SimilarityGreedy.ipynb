{
 "cells": [
  {
   "cell_type": "markdown",
   "id": "9b209494-78dd-4857-8c34-3223997b19f1",
   "metadata": {},
   "source": [
    "# Import required libraries"
   ]
  },
  {
   "cell_type": "code",
   "execution_count": 27,
   "id": "726cfd25-17c4-4d34-af78-18a362e4ac35",
   "metadata": {},
   "outputs": [],
   "source": [
    "from sklearn.metrics.pairwise import cosine_similarity\n",
    "from sklearn.feature_extraction.text import CountVectorizer\n",
    "from nltk.corpus import stopwords\n",
    "from nltk.tokenize import word_tokenize\n",
    "from nltk.tokenize.treebank import TreebankWordDetokenizer\n",
    "\n",
    "from collections import defaultdict\n",
    "\n",
    "import pandas as pd\n",
    "import numpy as np\n",
    "import re\n",
    "from nlp_id.lemmatizer import Lemmatizer"
   ]
  },
  {
   "cell_type": "markdown",
   "id": "f1857024-2103-4dfc-b548-b673394a7ea6",
   "metadata": {},
   "source": [
    "# Load and order data"
   ]
  },
  {
   "cell_type": "code",
   "execution_count": 5,
   "id": "a28d2d8c-d3a5-4e10-b2ce-496eea200655",
   "metadata": {},
   "outputs": [],
   "source": [
    "df = pd.read_csv('ProsesSimilarityGabung.csv')\n",
    "df['IdKalimat'] = df.groupby('IdData').cumcount()\n",
    "df['DataCleaned'] = ''\n",
    "df = df[['IdData', 'IdKalimat', 'Data', 'DataCleaned', 'Label', 'DataEditGreedy', 'DataEditOptimal']]"
   ]
  },
  {
   "cell_type": "markdown",
   "id": "e6d46657-000f-4caf-9f43-3ce577d5e729",
   "metadata": {},
   "source": [
    "# Preprocess data"
   ]
  },
  {
   "cell_type": "code",
   "execution_count": 6,
   "id": "06a6a732-8f43-4d09-93fb-ce35d2480950",
   "metadata": {},
   "outputs": [],
   "source": [
    "lemmatizer = Lemmatizer()\n",
    "stop_words = stopwords.words(\"indonesian\")\n",
    "word_detokenizer = TreebankWordDetokenizer()\n",
    "\n",
    "df['DataCleaned'] = df['Data'].str.lower()\n",
    "df['DataCleaned'] = df['DataCleaned'].apply(lambda s: re.sub(r'[^\\w\\s]', '', re.sub(r'\\d+', '', s)))\n",
    "df['DataCleaned'] = df['DataCleaned'].apply(lambda s: lemmatizer.lemmatize(s))\n",
    "df['DataCleaned'] = df['DataCleaned'].apply(lambda s: [v for v in s.split() if v not in stop_words])\n",
    "df['DataCleaned'] = df['DataCleaned'].apply(lambda s: word_detokenizer.detokenize(s))"
   ]
  },
  {
   "cell_type": "markdown",
   "id": "13d30b9c-613b-4cd9-ab18-c50e26d6b900",
   "metadata": {},
   "source": [
    "# Make some helper functions"
   ]
  },
  {
   "cell_type": "markdown",
   "id": "6e4dac6e-4135-4b67-a424-06a2df685326",
   "metadata": {},
   "source": [
    "#### `makeSimilarityMatrix`: for creating similarity matrix "
   ]
  },
  {
   "cell_type": "code",
   "execution_count": 8,
   "id": "7e12f493-0c35-4cf5-857d-6ead4685bb7b",
   "metadata": {},
   "outputs": [],
   "source": [
    "def makeSimilarityMatrix(data: list[str]):\n",
    "    vectorizer = CountVectorizer()\n",
    "    X = vectorizer.fit_transform(data)\n",
    "    similarities = pd.DataFrame(cosine_similarity(X))\n",
    "    return similarities"
   ]
  },
  {
   "cell_type": "markdown",
   "id": "7b6dc969-29a7-4a6d-9e0f-4e0d6d3252eb",
   "metadata": {},
   "source": [
    "#### `makeSegmentLabelMatrix()`: for making a matrix of segment-label combination"
   ]
  },
  {
   "cell_type": "code",
   "execution_count": 61,
   "id": "54d84091-0792-47f7-9cce-1997fbdc48e9",
   "metadata": {},
   "outputs": [],
   "source": [
    "def makeSegmentLabelMatrix(data: pd.DataFrame, field: str):\n",
    "    labels = sorted(data['Label'].unique())\n",
    "    segments = sorted(data[field].unique())\n",
    "\n",
    "    matrix = pd.DataFrame(np.zeros((len(segments), len(labels))), \n",
    "                                  index=segments, columns=labels)\n",
    "\n",
    "    return matrix"
   ]
  },
  {
   "cell_type": "markdown",
   "id": "889e60d4-fa4e-4bba-88f5-ca411bc46fc9",
   "metadata": {},
   "source": [
    "#### `getLargestValuesSum()`: for getting the largest values\n",
    "\n",
    "The largest values must not be in the same row and column \n",
    "only used inside `calculateScore()` function"
   ]
  },
  {
   "cell_type": "code",
   "execution_count": 10,
   "id": "fefb4c18-9576-4312-bb58-e3b7a2c5ce70",
   "metadata": {},
   "outputs": [],
   "source": [
    "def getLargestValueSum(matrix: pd.DataFrame):\n",
    "    maxVal1 = matrix.max().max()\n",
    "    \n",
    "    matrixCopy = matrix.copy()\n",
    "    \n",
    "    for i, _ in matrix.iterrows():\n",
    "        for j in matrix.columns:\n",
    "            if matrixCopy.loc[i][j] == maxVal1:\n",
    "                matrixCopy.loc[i][:] = 0.0\n",
    "                matrixCopy[j] = 0.0\n",
    "                break\n",
    "    \n",
    "    maxValArr = []\n",
    "    if len(matrix) < len(matrix.columns):\n",
    "        maxValArr = matrixCopy.max(axis=1)\n",
    "    else:\n",
    "        maxValArr = matrixCopy.max(axis=0)\n",
    "    \n",
    "    maxVal2 = maxValArr.sum()\n",
    "    maxValTotal = maxVal1 + maxVal2\n",
    "    \n",
    "    return maxValTotal"
   ]
  },
  {
   "cell_type": "markdown",
   "id": "bd0737cd-eb8a-4fcd-a82c-26e6d790242d",
   "metadata": {
    "tags": []
   },
   "source": [
    "#### `calculateScore()`: for calculating similarity greedy score"
   ]
  },
  {
   "cell_type": "code",
   "execution_count": 13,
   "id": "591b7cb2-9e88-469a-b1b0-dce05067d9c9",
   "metadata": {},
   "outputs": [],
   "source": [
    "def calculateScore(segment: int, label: str, df: pd.DataFrame, field: str, cossim_matrix: pd.DataFrame):\n",
    "    sgRow = df[df[field] == segment]['IdKalimat'].to_list()\n",
    "    sgCol = df[df['Label'] == label]['IdKalimat'].to_list()\n",
    "\n",
    "    sgMatrix = pd.DataFrame(np.zeros((len(sgRow), len(sgCol))),\n",
    "                            index=sgRow,\n",
    "                            columns=sgCol)\n",
    "\n",
    "    for noData in sgMatrix.columns:\n",
    "        for index, _ in sgMatrix.iterrows():\n",
    "            sgMatrix[noData][index] = similarities[noData][index]\n",
    "    \n",
    "    maxValTotal = getLargestValueSum(sgMatrix)\n",
    "    \n",
    "    score = ((2 * maxValTotal) / (len(sgRow) + len(sgCol)))\n",
    "    return score"
   ]
  },
  {
   "cell_type": "markdown",
   "id": "b90d4a73-3801-461c-af6f-84aad7d58090",
   "metadata": {
    "tags": []
   },
   "source": [
    "#### `getLabelSegmentPair()`: for labelling a segment\n",
    "\n",
    "use a `defaultdict` from the `collections` library  \n",
    "so when it encounters a segment without a label, will be set to `'Fx'`"
   ]
  },
  {
   "cell_type": "code",
   "execution_count": 36,
   "id": "485b6587-5b2f-4f52-ad51-b576a1857cc4",
   "metadata": {},
   "outputs": [],
   "source": [
    "def getSegmentLabelPair(df: pd.DataFrame):\n",
    "    # Find the indices of the flattened array that would sort it in descending order\n",
    "    sorted_indices = np.argsort(-df.values.ravel())\n",
    "    num_values = len(df.columns)\n",
    "\n",
    "    # Initialize empty lists for the row and column indices of the largest values\n",
    "    rows = []\n",
    "    cols = []\n",
    "\n",
    "    # Loop through the sorted indices and add the row and column indices to the lists\n",
    "    for idx in sorted_indices:\n",
    "        row = idx // df.shape[1]\n",
    "        col = idx % df.shape[1]\n",
    "        if row not in rows and col not in cols:\n",
    "            rows.append(row)\n",
    "            cols.append(col)\n",
    "        if len(rows) == num_values:\n",
    "            break\n",
    "\n",
    "    # Get the largest values at the selected row and column indices\n",
    "    values = df.values[rows, cols]\n",
    "    segments = rows\n",
    "\n",
    "    # Return the results as a dict\n",
    "    labels = [df.columns[c] for c in cols]\n",
    "    return defaultdict(lambda: 'Fx', dict(zip(segments, labels)))"
   ]
  },
  {
   "cell_type": "markdown",
   "id": "3db32734-c80c-4f3e-869d-0cbd44dd1e9c",
   "metadata": {},
   "source": [
    "# Processing greedy segment"
   ]
  },
  {
   "cell_type": "code",
   "execution_count": 62,
   "id": "95f6678a-2ff0-4d62-8f10-b13afbcc3d10",
   "metadata": {},
   "outputs": [],
   "source": [
    "df['LabelGreedy'] = ''\n",
    "\n",
    "for doc_id in df['IdData'].unique():\n",
    "    data = {}\n",
    "    \n",
    "    data['IdKalimat'] = df.loc[df['IdData'] == doc_id, 'IdKalimat'].tolist()\n",
    "    data['Data'] = df.loc[df['IdData'] == doc_id, 'Data'].tolist()\n",
    "    data['DataCleaned'] = df.loc[df['IdData'] == doc_id, 'DataCleaned'].tolist()\n",
    "    data['Label'] = df.loc[df['IdData'] == doc_id, 'Label'].tolist()\n",
    "    data['DataEditGreedy'] = df.loc[df['IdData'] == doc_id, 'DataEditGreedy'].tolist()\n",
    "\n",
    "    data = pd.DataFrame(data)\n",
    "\n",
    "    similarities = makeSimilarityMatrix(data['DataCleaned'])\n",
    "\n",
    "    slMatrix = makeSegmentLabelMatrix(data, 'DataEditGreedy')\n",
    "\n",
    "    for label in slMatrix.columns:\n",
    "        for index, _ in slMatrix.iterrows():\n",
    "            slMatrix[label][index] = calculateScore(index, label, data, 'DataEditGreedy', similarities)\n",
    "\n",
    "    segmentLabelPair = getSegmentLabelPair(slMatrix)\n",
    "    \n",
    "    mask = df['IdData'] == doc_id\n",
    "    df.loc[mask, 'LabelGreedy'] = df.loc[mask, 'DataEditGreedy'].map(segmentLabelPair)"
   ]
  },
  {
   "cell_type": "markdown",
   "id": "4f932903-19c5-439c-93fe-6fe2428a4a52",
   "metadata": {},
   "source": [
    "# Processing optimal segment"
   ]
  },
  {
   "cell_type": "code",
   "execution_count": 63,
   "id": "b60626d8-d429-4386-805b-03c656255698",
   "metadata": {},
   "outputs": [],
   "source": [
    "df['LabelOptimal'] = ''\n",
    "\n",
    "for doc_id in df['IdData'].unique():\n",
    "    data = {}\n",
    "    \n",
    "    data['IdKalimat'] = df.loc[df['IdData'] == doc_id, 'IdKalimat'].tolist()\n",
    "    data['Data'] = df.loc[df['IdData'] == doc_id, 'Data'].tolist()\n",
    "    data['DataCleaned'] = df.loc[df['IdData'] == doc_id, 'DataCleaned'].tolist()\n",
    "    data['Label'] = df.loc[df['IdData'] == doc_id, 'Label'].tolist()\n",
    "    data['DataEditOptimal'] = df.loc[df['IdData'] == doc_id, 'DataEditOptimal'].tolist()\n",
    "\n",
    "    data = pd.DataFrame(data)\n",
    "\n",
    "    similarities = makeSimilarityMatrix(data['DataCleaned'])\n",
    "\n",
    "    slMatrix = makeSegmentLabelMatrix(data, 'DataEditOptimal')\n",
    "\n",
    "    for label in slMatrix.columns:\n",
    "        for index, _ in slMatrix.iterrows():\n",
    "            slMatrix[label][index] = calculateScore(index, label, data, 'DataEditOptimal', similarities)\n",
    "\n",
    "    segmentLabelPair = getSegmentLabelPair(slMatrix)\n",
    "    \n",
    "    mask = df['IdData'] == doc_id\n",
    "    df.loc[mask, 'LabelOptimal'] = df.loc[mask, 'DataEditOptimal'].map(segmentLabelPair)"
   ]
  },
  {
   "cell_type": "markdown",
   "id": "5534e4b9-926e-4ec8-a422-9bec2dde938a",
   "metadata": {},
   "source": [
    "# Export result to CSV"
   ]
  },
  {
   "cell_type": "code",
   "execution_count": 64,
   "id": "8fb7f65d-870f-4a5c-81bd-e64c0f27680d",
   "metadata": {},
   "outputs": [],
   "source": [
    "df.to_csv('SimilarityGreedyResult.csv', index=False)"
   ]
  }
 ],
 "metadata": {
  "kernelspec": {
   "display_name": "env",
   "language": "python",
   "name": "env"
  },
  "language_info": {
   "codemirror_mode": {
    "name": "ipython",
    "version": 3
   },
   "file_extension": ".py",
   "mimetype": "text/x-python",
   "name": "python",
   "nbconvert_exporter": "python",
   "pygments_lexer": "ipython3",
   "version": "3.10.10"
  }
 },
 "nbformat": 4,
 "nbformat_minor": 5
}
